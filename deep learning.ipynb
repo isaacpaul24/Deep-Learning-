{
 "cells": [
  {
   "cell_type": "markdown",
   "id": "84c857be",
   "metadata": {},
   "source": [
    "# Activation function"
   ]
  },
  {
   "cell_type": "markdown",
   "id": "cdebf3b5",
   "metadata": {},
   "source": [
    "## Binary function"
   ]
  },
  {
   "cell_type": "code",
   "execution_count": 1,
   "id": "0ff0ae0a",
   "metadata": {},
   "outputs": [],
   "source": [
    "def binary_step(x):\n",
    "    if x<0:\n",
    "        return 0\n",
    "    else:\n",
    "        return 1"
   ]
  },
  {
   "cell_type": "code",
   "execution_count": 3,
   "id": "539c0215",
   "metadata": {},
   "outputs": [
    {
     "data": {
      "text/plain": [
       "1"
      ]
     },
     "execution_count": 3,
     "metadata": {},
     "output_type": "execute_result"
    }
   ],
   "source": [
    "binary_step(12)"
   ]
  },
  {
   "cell_type": "code",
   "execution_count": 4,
   "id": "8cd9667c",
   "metadata": {},
   "outputs": [
    {
     "data": {
      "text/plain": [
       "0"
      ]
     },
     "execution_count": 4,
     "metadata": {},
     "output_type": "execute_result"
    }
   ],
   "source": [
    "binary_step(-1)"
   ]
  },
  {
   "cell_type": "code",
   "execution_count": 5,
   "id": "179c7288",
   "metadata": {},
   "outputs": [
    {
     "data": {
      "text/plain": [
       "0"
      ]
     },
     "execution_count": 5,
     "metadata": {},
     "output_type": "execute_result"
    }
   ],
   "source": [
    "binary_step(-12)"
   ]
  },
  {
   "cell_type": "markdown",
   "id": "17cc9465",
   "metadata": {},
   "source": [
    "## Linear function"
   ]
  },
  {
   "cell_type": "code",
   "execution_count": 9,
   "id": "ff60e120",
   "metadata": {},
   "outputs": [],
   "source": [
    "def linear_func(x):\n",
    "    return 3*x"
   ]
  },
  {
   "cell_type": "code",
   "execution_count": 10,
   "id": "b5b0ebd4",
   "metadata": {},
   "outputs": [
    {
     "data": {
      "text/plain": [
       "27"
      ]
     },
     "execution_count": 10,
     "metadata": {},
     "output_type": "execute_result"
    }
   ],
   "source": [
    "linear_func(9)"
   ]
  },
  {
   "cell_type": "code",
   "execution_count": 11,
   "id": "636c415b",
   "metadata": {},
   "outputs": [
    {
     "data": {
      "text/plain": [
       "12"
      ]
     },
     "execution_count": 11,
     "metadata": {},
     "output_type": "execute_result"
    }
   ],
   "source": [
    "linear_func(4)"
   ]
  },
  {
   "cell_type": "markdown",
   "id": "4676b1cb",
   "metadata": {},
   "source": [
    "## Sigmoid function"
   ]
  },
  {
   "cell_type": "code",
   "execution_count": 12,
   "id": "baa5b7a4",
   "metadata": {},
   "outputs": [],
   "source": [
    "import numpy as np\n",
    "def sigmoid_func(x):\n",
    "    z=(1/(1+np.exp(-x)))\n",
    "    return z"
   ]
  },
  {
   "cell_type": "code",
   "execution_count": 16,
   "id": "4907df3d",
   "metadata": {},
   "outputs": [
    {
     "data": {
      "text/plain": [
       "0.9999999999999065"
      ]
     },
     "execution_count": 16,
     "metadata": {},
     "output_type": "execute_result"
    }
   ],
   "source": [
    "sigmoid_func(30)"
   ]
  },
  {
   "cell_type": "code",
   "execution_count": 14,
   "id": "e4aeffbb",
   "metadata": {},
   "outputs": [
    {
     "data": {
      "text/plain": [
       "0.8807970779778823"
      ]
     },
     "execution_count": 14,
     "metadata": {},
     "output_type": "execute_result"
    }
   ],
   "source": [
    "sigmoid_func(2)"
   ]
  },
  {
   "cell_type": "code",
   "execution_count": 17,
   "id": "f34f55a0",
   "metadata": {},
   "outputs": [
    {
     "data": {
      "text/plain": [
       "0.11920292202211755"
      ]
     },
     "execution_count": 17,
     "metadata": {},
     "output_type": "execute_result"
    }
   ],
   "source": [
    "sigmoid_func(-2)"
   ]
  },
  {
   "cell_type": "markdown",
   "id": "4af12619",
   "metadata": {},
   "source": [
    "## Tanh"
   ]
  },
  {
   "cell_type": "code",
   "execution_count": 22,
   "id": "1b2c4c6e",
   "metadata": {},
   "outputs": [],
   "source": [
    "def tanh_func(x):\n",
    "    z=(2/(1+np.exp(-2*x)))-1\n",
    "    return z"
   ]
  },
  {
   "cell_type": "code",
   "execution_count": 23,
   "id": "fc9524c6",
   "metadata": {},
   "outputs": [
    {
     "data": {
      "text/plain": [
       "1.0"
      ]
     },
     "execution_count": 23,
     "metadata": {},
     "output_type": "execute_result"
    }
   ],
   "source": [
    "tanh_func(22)"
   ]
  },
  {
   "cell_type": "code",
   "execution_count": 24,
   "id": "bdac043f",
   "metadata": {},
   "outputs": [
    {
     "data": {
      "text/plain": [
       "1.0"
      ]
     },
     "execution_count": 24,
     "metadata": {},
     "output_type": "execute_result"
    }
   ],
   "source": [
    "tanh_func(45)"
   ]
  },
  {
   "cell_type": "code",
   "execution_count": 25,
   "id": "0f813bf0",
   "metadata": {},
   "outputs": [
    {
     "data": {
      "text/plain": [
       "0.9640275800758169"
      ]
     },
     "execution_count": 25,
     "metadata": {},
     "output_type": "execute_result"
    }
   ],
   "source": [
    "tanh_func(2)"
   ]
  },
  {
   "cell_type": "markdown",
   "id": "b0bbd118",
   "metadata": {},
   "source": [
    "## RelU"
   ]
  },
  {
   "cell_type": "code",
   "execution_count": 26,
   "id": "26f8380a",
   "metadata": {},
   "outputs": [],
   "source": [
    "def relu_func(x):\n",
    "    if x<0:\n",
    "        return 0\n",
    "    else:\n",
    "        return x"
   ]
  },
  {
   "cell_type": "code",
   "execution_count": 27,
   "id": "44b181b1",
   "metadata": {},
   "outputs": [
    {
     "data": {
      "text/plain": [
       "44"
      ]
     },
     "execution_count": 27,
     "metadata": {},
     "output_type": "execute_result"
    }
   ],
   "source": [
    "relu_func(44)"
   ]
  },
  {
   "cell_type": "code",
   "execution_count": 28,
   "id": "cded7bec",
   "metadata": {},
   "outputs": [
    {
     "data": {
      "text/plain": [
       "3"
      ]
     },
     "execution_count": 28,
     "metadata": {},
     "output_type": "execute_result"
    }
   ],
   "source": [
    "relu_func(3)"
   ]
  },
  {
   "cell_type": "markdown",
   "id": "43b54419",
   "metadata": {},
   "source": [
    "## Leaky RelU"
   ]
  },
  {
   "cell_type": "code",
   "execution_count": 29,
   "id": "c92f3dec",
   "metadata": {},
   "outputs": [],
   "source": [
    "def leaky_relu_func(x):\n",
    "    if x<0:\n",
    "        return 0\n",
    "    else:\n",
    "        return x*0.01"
   ]
  },
  {
   "cell_type": "code",
   "execution_count": 30,
   "id": "1ae03b78",
   "metadata": {},
   "outputs": [
    {
     "data": {
      "text/plain": [
       "0.22"
      ]
     },
     "execution_count": 30,
     "metadata": {},
     "output_type": "execute_result"
    }
   ],
   "source": [
    "leaky_relu_func(22)"
   ]
  },
  {
   "cell_type": "code",
   "execution_count": 31,
   "id": "d3c4c7f6",
   "metadata": {},
   "outputs": [
    {
     "data": {
      "text/plain": [
       "0.0"
      ]
     },
     "execution_count": 31,
     "metadata": {},
     "output_type": "execute_result"
    }
   ],
   "source": [
    "leaky_relu_func(0)"
   ]
  },
  {
   "cell_type": "markdown",
   "id": "caf56867",
   "metadata": {},
   "source": [
    "## ELU"
   ]
  },
  {
   "cell_type": "code",
   "execution_count": 32,
   "id": "624ec89b",
   "metadata": {},
   "outputs": [],
   "source": [
    "def elu_func(x,a):\n",
    "    if x<0:\n",
    "        return a*(np.exp(x)-1)\n",
    "    else:\n",
    "        return x"
   ]
  },
  {
   "cell_type": "code",
   "execution_count": 34,
   "id": "c64b6273",
   "metadata": {},
   "outputs": [
    {
     "data": {
      "text/plain": [
       "3"
      ]
     },
     "execution_count": 34,
     "metadata": {},
     "output_type": "execute_result"
    }
   ],
   "source": [
    "elu_func(3,4)"
   ]
  },
  {
   "cell_type": "code",
   "execution_count": 36,
   "id": "0ab04b4c",
   "metadata": {},
   "outputs": [
    {
     "data": {
      "text/plain": [
       "-3.458658867053549"
      ]
     },
     "execution_count": 36,
     "metadata": {},
     "output_type": "execute_result"
    }
   ],
   "source": [
    "elu_func(-2,4)"
   ]
  },
  {
   "cell_type": "markdown",
   "id": "4e45a733",
   "metadata": {},
   "source": [
    "## Swish"
   ]
  },
  {
   "cell_type": "code",
   "execution_count": 37,
   "id": "cb6142fa",
   "metadata": {},
   "outputs": [],
   "source": [
    "def swish_func(x):\n",
    "    return x/(1-np.exp(-x))"
   ]
  },
  {
   "cell_type": "code",
   "execution_count": 38,
   "id": "0d129a2b",
   "metadata": {},
   "outputs": [
    {
     "data": {
      "text/plain": [
       "5.827288667242854e-14"
      ]
     },
     "execution_count": 38,
     "metadata": {},
     "output_type": "execute_result"
    }
   ],
   "source": [
    "swish_func(-34)"
   ]
  },
  {
   "cell_type": "code",
   "execution_count": 39,
   "id": "5acc36f2",
   "metadata": {},
   "outputs": [
    {
     "data": {
      "text/plain": [
       "2.3130352854993315"
      ]
     },
     "execution_count": 39,
     "metadata": {},
     "output_type": "execute_result"
    }
   ],
   "source": [
    "swish_func(2)"
   ]
  },
  {
   "cell_type": "markdown",
   "id": "762733f7",
   "metadata": {},
   "source": [
    "## Soft max"
   ]
  },
  {
   "cell_type": "code",
   "execution_count": 40,
   "id": "ffa5c09e",
   "metadata": {},
   "outputs": [],
   "source": [
    "def soft_max_func(x):\n",
    "    z=np.exp(x)\n",
    "    z_=z/z.sum()\n",
    "    return z_"
   ]
  },
  {
   "cell_type": "code",
   "execution_count": 44,
   "id": "91d110d7",
   "metadata": {},
   "outputs": [
    {
     "data": {
      "text/plain": [
       "1.0"
      ]
     },
     "execution_count": 44,
     "metadata": {},
     "output_type": "execute_result"
    }
   ],
   "source": [
    "soft_max_func([2,2,3,4,5,6,8,9])"
   ]
  },
  {
   "cell_type": "code",
   "execution_count": 45,
   "id": "7b67a83e",
   "metadata": {},
   "outputs": [
    {
     "data": {
      "text/plain": [
       "array([0.0320586 , 0.08714432, 0.23688282, 0.64391426])"
      ]
     },
     "execution_count": 45,
     "metadata": {},
     "output_type": "execute_result"
    }
   ],
   "source": [
    "soft_max_func([1,2,3,4])"
   ]
  },
  {
   "cell_type": "code",
   "execution_count": null,
   "id": "872aeb42",
   "metadata": {},
   "outputs": [],
   "source": []
  }
 ],
 "metadata": {
  "kernelspec": {
   "display_name": "Python 3 (ipykernel)",
   "language": "python",
   "name": "python3"
  },
  "language_info": {
   "codemirror_mode": {
    "name": "ipython",
    "version": 3
   },
   "file_extension": ".py",
   "mimetype": "text/x-python",
   "name": "python",
   "nbconvert_exporter": "python",
   "pygments_lexer": "ipython3",
   "version": "3.9.13"
  }
 },
 "nbformat": 4,
 "nbformat_minor": 5
}
